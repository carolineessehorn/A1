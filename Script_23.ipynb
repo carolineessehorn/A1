sudo apt-get install cowsay

!cowsay hello
